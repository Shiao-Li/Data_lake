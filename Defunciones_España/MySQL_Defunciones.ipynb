{
 "cells": [
  {
   "cell_type": "markdown",
   "id": "07f4b8d1",
   "metadata": {},
   "source": [
    "## DEFUNCIONES "
   ]
  },
  {
   "cell_type": "code",
   "execution_count": 29,
   "id": "b4591f3a",
   "metadata": {},
   "outputs": [],
   "source": [
    "import pandas as pd\n"
   ]
  },
  {
   "cell_type": "markdown",
   "id": "e462fabf",
   "metadata": {},
   "source": [
    "### Leemos nuestro csv de la pagina de datos libres de españa\n",
    "#### link: https://datos.gob.es/es/catalogo/ea0010587-defunciones-por-causas-lista-reducida-provincia-de-defuncion-y-sexo-ecm-identificador-api-t15-p417-covid-l0-03013-px\n"
   ]
  },
  {
   "cell_type": "code",
   "execution_count": 30,
   "id": "dc36cd49",
   "metadata": {},
   "outputs": [
    {
     "data": {
      "text/html": [
       "<div>\n",
       "<style scoped>\n",
       "    .dataframe tbody tr th:only-of-type {\n",
       "        vertical-align: middle;\n",
       "    }\n",
       "\n",
       "    .dataframe tbody tr th {\n",
       "        vertical-align: top;\n",
       "    }\n",
       "\n",
       "    .dataframe thead th {\n",
       "        text-align: right;\n",
       "    }\n",
       "</style>\n",
       "<table border=\"1\" class=\"dataframe\">\n",
       "  <thead>\n",
       "    <tr style=\"text-align: right;\">\n",
       "      <th></th>\n",
       "      <th>Causa de muerte (lista reducida)</th>\n",
       "      <th>Sexo</th>\n",
       "      <th>Provincia de defunción</th>\n",
       "      <th>Total</th>\n",
       "    </tr>\n",
       "  </thead>\n",
       "  <tbody>\n",
       "    <tr>\n",
       "      <th>0</th>\n",
       "      <td>001-102 I-XXII.Todas las causas</td>\n",
       "      <td>Total</td>\n",
       "      <td>Total</td>\n",
       "      <td>231014</td>\n",
       "    </tr>\n",
       "    <tr>\n",
       "      <th>1</th>\n",
       "      <td>001-102 I-XXII.Todas las causas</td>\n",
       "      <td>Total</td>\n",
       "      <td>Albacete</td>\n",
       "      <td>2814</td>\n",
       "    </tr>\n",
       "    <tr>\n",
       "      <th>2</th>\n",
       "      <td>001-102 I-XXII.Todas las causas</td>\n",
       "      <td>Total</td>\n",
       "      <td>Alicante/Alacant</td>\n",
       "      <td>7610</td>\n",
       "    </tr>\n",
       "    <tr>\n",
       "      <th>3</th>\n",
       "      <td>001-102 I-XXII.Todas las causas</td>\n",
       "      <td>Total</td>\n",
       "      <td>Almería</td>\n",
       "      <td>2385</td>\n",
       "    </tr>\n",
       "    <tr>\n",
       "      <th>4</th>\n",
       "      <td>001-102 I-XXII.Todas las causas</td>\n",
       "      <td>Total</td>\n",
       "      <td>Araba/Alava</td>\n",
       "      <td>1507</td>\n",
       "    </tr>\n",
       "  </tbody>\n",
       "</table>\n",
       "</div>"
      ],
      "text/plain": [
       "  Causa de muerte (lista reducida)   Sexo Provincia de defunción   Total\n",
       "0  001-102 I-XXII.Todas las causas  Total                  Total  231014\n",
       "1  001-102 I-XXII.Todas las causas  Total               Albacete    2814\n",
       "2  001-102 I-XXII.Todas las causas  Total       Alicante/Alacant    7610\n",
       "3  001-102 I-XXII.Todas las causas  Total                Almería    2385\n",
       "4  001-102 I-XXII.Todas las causas  Total            Araba/Alava    1507"
      ]
     },
     "execution_count": 30,
     "metadata": {},
     "output_type": "execute_result"
    }
   ],
   "source": [
    "\n",
    "info_españa_defunciones = pd.read_csv('defunciones_españa.csv',delimiter=';')\n",
    "info_españa_defunciones.head()\n"
   ]
  },
  {
   "cell_type": "code",
   "execution_count": 31,
   "id": "99bd432d",
   "metadata": {},
   "outputs": [
    {
     "data": {
      "text/html": [
       "<div>\n",
       "<style scoped>\n",
       "    .dataframe tbody tr th:only-of-type {\n",
       "        vertical-align: middle;\n",
       "    }\n",
       "\n",
       "    .dataframe tbody tr th {\n",
       "        vertical-align: top;\n",
       "    }\n",
       "\n",
       "    .dataframe thead th {\n",
       "        text-align: right;\n",
       "    }\n",
       "</style>\n",
       "<table border=\"1\" class=\"dataframe\">\n",
       "  <thead>\n",
       "    <tr style=\"text-align: right;\">\n",
       "      <th></th>\n",
       "      <th>Causa de muerte (lista reducida)</th>\n",
       "      <th>Sexo</th>\n",
       "      <th>Provincia de defunción</th>\n",
       "      <th>Total</th>\n",
       "    </tr>\n",
       "  </thead>\n",
       "  <tbody>\n",
       "    <tr>\n",
       "      <th>0</th>\n",
       "      <td>001-102 I-XXII.Todas las causas</td>\n",
       "      <td>Total</td>\n",
       "      <td>Total</td>\n",
       "      <td>231014</td>\n",
       "    </tr>\n",
       "    <tr>\n",
       "      <th>1</th>\n",
       "      <td>001-102 I-XXII.Todas las causas</td>\n",
       "      <td>Total</td>\n",
       "      <td>Albacete</td>\n",
       "      <td>2814</td>\n",
       "    </tr>\n",
       "    <tr>\n",
       "      <th>2</th>\n",
       "      <td>001-102 I-XXII.Todas las causas</td>\n",
       "      <td>Total</td>\n",
       "      <td>Alicante/Alacant</td>\n",
       "      <td>7610</td>\n",
       "    </tr>\n",
       "    <tr>\n",
       "      <th>3</th>\n",
       "      <td>001-102 I-XXII.Todas las causas</td>\n",
       "      <td>Total</td>\n",
       "      <td>Almería</td>\n",
       "      <td>2385</td>\n",
       "    </tr>\n",
       "    <tr>\n",
       "      <th>4</th>\n",
       "      <td>001-102 I-XXII.Todas las causas</td>\n",
       "      <td>Total</td>\n",
       "      <td>Araba/Alava</td>\n",
       "      <td>1507</td>\n",
       "    </tr>\n",
       "    <tr>\n",
       "      <th>5</th>\n",
       "      <td>001-102 I-XXII.Todas las causas</td>\n",
       "      <td>Total</td>\n",
       "      <td>Asturias</td>\n",
       "      <td>6217</td>\n",
       "    </tr>\n",
       "    <tr>\n",
       "      <th>6</th>\n",
       "      <td>001-102 I-XXII.Todas las causas</td>\n",
       "      <td>Total</td>\n",
       "      <td>Avila</td>\n",
       "      <td>1206</td>\n",
       "    </tr>\n",
       "    <tr>\n",
       "      <th>7</th>\n",
       "      <td>001-102 I-XXII.Todas las causas</td>\n",
       "      <td>Total</td>\n",
       "      <td>Badajoz</td>\n",
       "      <td>3203</td>\n",
       "    </tr>\n",
       "  </tbody>\n",
       "</table>\n",
       "</div>"
      ],
      "text/plain": [
       "  Causa de muerte (lista reducida)   Sexo Provincia de defunción   Total\n",
       "0  001-102 I-XXII.Todas las causas  Total                  Total  231014\n",
       "1  001-102 I-XXII.Todas las causas  Total               Albacete    2814\n",
       "2  001-102 I-XXII.Todas las causas  Total       Alicante/Alacant    7610\n",
       "3  001-102 I-XXII.Todas las causas  Total                Almería    2385\n",
       "4  001-102 I-XXII.Todas las causas  Total            Araba/Alava    1507\n",
       "5  001-102 I-XXII.Todas las causas  Total               Asturias    6217\n",
       "6  001-102 I-XXII.Todas las causas  Total                  Avila    1206\n",
       "7  001-102 I-XXII.Todas las causas  Total                Badajoz    3203"
      ]
     },
     "execution_count": 31,
     "metadata": {},
     "output_type": "execute_result"
    }
   ],
   "source": [
    "info_españa_defunciones.head(8)## mostrar por consola en un data frame el numero de datos especificados en el ()"
   ]
  },
  {
   "cell_type": "code",
   "execution_count": 32,
   "id": "2a55ce01",
   "metadata": {},
   "outputs": [
    {
     "name": "stdout",
     "output_type": "stream",
     "text": [
      "                      Causa de muerte (lista reducida)     Sexo  \\\n",
      "0                      001-102 I-XXII.Todas las causas    Total   \n",
      "1                      001-102 I-XXII.Todas las causas    Total   \n",
      "2                      001-102 I-XXII.Todas las causas    Total   \n",
      "3                      001-102 I-XXII.Todas las causas    Total   \n",
      "4                      001-102 I-XXII.Todas las causas    Total   \n",
      "...                                                ...      ...   \n",
      "18916  102 Otras causas externas y sus efectos tardíos  Mujeres   \n",
      "18917  102 Otras causas externas y sus efectos tardíos  Mujeres   \n",
      "18918  102 Otras causas externas y sus efectos tardíos  Mujeres   \n",
      "18919  102 Otras causas externas y sus efectos tardíos  Mujeres   \n",
      "18920  102 Otras causas externas y sus efectos tardíos  Mujeres   \n",
      "\n",
      "      Provincia de defunción   Total  \n",
      "0                      Total  231014  \n",
      "1                   Albacete    2814  \n",
      "2           Alicante/Alacant    7610  \n",
      "3                    Almería    2385  \n",
      "4                Araba/Alava    1507  \n",
      "...                      ...     ...  \n",
      "18916             Valladolid       0  \n",
      "18917                 Zamora       0  \n",
      "18918               Zaragoza       0  \n",
      "18919                  Ceuta       0  \n",
      "18920                Melilla       0  \n",
      "\n",
      "[18921 rows x 4 columns]\n"
     ]
    }
   ],
   "source": [
    "print(info_españa_defunciones) ## mostrar por consola los datos"
   ]
  },
  {
   "cell_type": "markdown",
   "id": "57f3cd4a",
   "metadata": {},
   "source": [
    "### Buscamos la causa de muerte por un filtro especifico "
   ]
  },
  {
   "cell_type": "code",
   "execution_count": null,
   "id": "30011cbe",
   "metadata": {},
   "outputs": [],
   "source": [
    "import pandas as pd\n",
    "\n",
    "# Cargar el archivo CSV\n",
    "datos_busqueda = pd.read_csv('defunciones_españa.csv',delimiter=';')\n",
    "\n",
    "# Buscar las filas donde la causa de muerte es \"001-102 I-XXII.Todas las causas\" \n",
    "# y ordenar el resultado por provincia de defunción\n",
    "busqueda = datos_busqueda.loc[datos_busqueda['Causa de muerte (lista reducida)'] == '001-102 I-XXII.Todas las causas']#.sort_values('Provincia de defunción')\n",
    "\n",
    "# Mostrar los resultados\n",
    "print(busqueda)\n"
   ]
  },
  {
   "cell_type": "markdown",
   "id": "2e350278",
   "metadata": {},
   "source": [
    "### Importamos los datos a MySQL "
   ]
  },
  {
   "cell_type": "code",
   "execution_count": 46,
   "id": "1c293daf",
   "metadata": {},
   "outputs": [],
   "source": [
    "## pasamos los datos que tenemos en el csv a un data frame a MySQL\n",
    "import pandas as pd\n",
    "import mysql.connector\n",
    "\n",
    "# Conectar a la base de datos MySQL\n",
    "conexion = mysql.connector.connect(user='root', \n",
    "                              password='HolaMundo###123',\n",
    "                              host='localhost',\n",
    "                              database='defunciones_es')\n",
    "\n",
    "# Crear la tabla en la base de datos MySQL\n",
    "cursor = conexion.cursor()\n",
    "\n",
    "cursor.execute(\"\"\"\n",
    "    CREATE TABLE IF NOT EXISTS defunciones_1 (\n",
    "        causa_de_muerte VARCHAR(500),\n",
    "        sexo VARCHAR(500),\n",
    "        provincia_de_defuncion VARCHAR(500),\n",
    "        total DECIMAL(20,2) UNSIGNED\n",
    "    )\n",
    "\"\"\")\n"
   ]
  },
  {
   "cell_type": "markdown",
   "id": "2f7a7f58",
   "metadata": {},
   "source": [
    "### Importamos los datos a MySQL"
   ]
  },
  {
   "cell_type": "code",
   "execution_count": 48,
   "id": "3a95b7af",
   "metadata": {
    "scrolled": false
   },
   "outputs": [],
   "source": [
    "# Insertar los datos en la tabla\n",
    "for i, row in info_españa_defunciones.iterrows():\n",
    "    total = float(row['Total'])\n",
    "    cursor.execute(\"\"\"\n",
    "        INSERT INTO defunciones_1 (causa_de_muerte, sexo, provincia_de_defuncion, total)\n",
    "        VALUES (%s, %s, %s, %s)\n",
    "    \"\"\", (row['Causa de muerte (lista reducida)'], row['Sexo'], row['Provincia de defunción'], total))\n",
    "\n",
    "conexion.commit()\n",
    "# Cerrar la conexión a la base de datos\n",
    "conexion.close()"
   ]
  },
  {
   "cell_type": "code",
   "execution_count": null,
   "id": "58d9f3d3",
   "metadata": {},
   "outputs": [],
   "source": []
  }
 ],
 "metadata": {
  "kernelspec": {
   "display_name": "Python 3 (ipykernel)",
   "language": "python",
   "name": "python3"
  },
  "language_info": {
   "codemirror_mode": {
    "name": "ipython",
    "version": 3
   },
   "file_extension": ".py",
   "mimetype": "text/x-python",
   "name": "python",
   "nbconvert_exporter": "python",
   "pygments_lexer": "ipython3",
   "version": "3.10.7"
  }
 },
 "nbformat": 4,
 "nbformat_minor": 5
}
